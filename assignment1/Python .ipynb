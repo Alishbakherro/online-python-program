{
 "cells": [
  {
   "cell_type": "code",
   "execution_count": 1,
   "id": "00c35af7",
   "metadata": {},
   "outputs": [
    {
     "name": "stdout",
     "output_type": "stream",
     "text": [
      "twinkle, twinkle little star\n",
      "\thow i wonder what you are!\n",
      "\t\t up above the world so high\n",
      "\t\t like a diomond in the sky\n",
      "twinkle, twinkle little star\n",
      "\t how i wonder whst you are!\n"
     ]
    }
   ],
   "source": [
    "print(\"twinkle, twinkle little star\" );\n",
    "print(\"\\thow i wonder what you are!\");\n",
    "print(\"\\t\\t up above the world so high\");\n",
    "print(\"\\t\\t like a diomond in the sky\");\n",
    "print(\"twinkle, twinkle little star\");\n",
    "print(\"\\t how i wonder whst you are!\");"
   ]
  },
  {
   "cell_type": "code",
   "execution_count": 2,
   "id": "8b19355f",
   "metadata": {},
   "outputs": [
    {
     "name": "stdout",
     "output_type": "stream",
     "text": [
      "3.9.7\n"
     ]
    }
   ],
   "source": [
    "from platform import python_version\n",
    "print(python_version());\n"
   ]
  },
  {
   "cell_type": "code",
   "execution_count": 3,
   "id": "dcada015",
   "metadata": {},
   "outputs": [
    {
     "name": "stdout",
     "output_type": "stream",
     "text": [
      "the date and time= 2022-01-03 10:24:52.875317\n"
     ]
    }
   ],
   "source": [
    "import datetime\n",
    "output=datetime.datetime.now()\n",
    "print(\"the date and time=\",output)"
   ]
  },
  {
   "cell_type": "code",
   "execution_count": 4,
   "id": "3431f3de",
   "metadata": {},
   "outputs": [
    {
     "name": "stdout",
     "output_type": "stream",
     "text": [
      "for finding the area of the circle,enter the radius:34\n",
      "the area of the circle=  3631.574\n"
     ]
    }
   ],
   "source": [
    "radius=float(input(\"for finding the area of the circle,enter the radius:\"))\n",
    "area=3.1415*radius*radius\n",
    "print (\"the area of the circle= \",area)\n",
    "\n"
   ]
  },
  {
   "cell_type": "code",
   "execution_count": 5,
   "id": "7fa9c41f",
   "metadata": {},
   "outputs": [
    {
     "name": "stdout",
     "output_type": "stream",
     "text": [
      "enter the first name of the user: Alishba\n",
      "enter the last name of the user: Kherro\n",
      "before swapping: Alishba Kherro\n",
      "after swapping Kherro Alishba\n"
     ]
    }
   ],
   "source": [
    "first_name=input(\"enter the first name of the user: \")\n",
    "last_name =input(\"enter the last name of the user: \")\n",
    "print(\"before swapping:\",first_name,last_name)\n",
    "temp=first_name\n",
    "first_name=last_name\n",
    "last_name=temp\n",
    "print(\"after swapping\",first_name,last_name)\n",
    "\n"
   ]
  },
  {
   "cell_type": "markdown",
   "id": "7bc532d3",
   "metadata": {},
   "source": [
    "\n"
   ]
  },
  {
   "cell_type": "code",
   "execution_count": 6,
   "id": "deac7224",
   "metadata": {},
   "outputs": [
    {
     "name": "stdout",
     "output_type": "stream",
     "text": [
      "enter first number: 23\n",
      "enter second number: 3\n",
      "the addition of the given number are:  26.0\n"
     ]
    }
   ],
   "source": [
    "num1=float(input(\"enter first number: \"))\n",
    "num2=float(input(\"enter second number: \"))\n",
    "addition=num1+num2\n",
    "print(\"the addition of the given number are: \",addition)"
   ]
  },
  {
   "cell_type": "code",
   "execution_count": null,
   "id": "fc0f4a7e",
   "metadata": {},
   "outputs": [],
   "source": []
  }
 ],
 "metadata": {
  "kernelspec": {
   "display_name": "Python 3 (ipykernel)",
   "language": "python",
   "name": "python3"
  },
  "language_info": {
   "codemirror_mode": {
    "name": "ipython",
    "version": 3
   },
   "file_extension": ".py",
   "mimetype": "text/x-python",
   "name": "python",
   "nbconvert_exporter": "python",
   "pygments_lexer": "ipython3",
   "version": "3.9.7"
  }
 },
 "nbformat": 4,
 "nbformat_minor": 5
}
